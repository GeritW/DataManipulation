{
 "cells": [
  {
   "cell_type": "code",
   "execution_count": 1,
   "metadata": {},
   "outputs": [],
   "source": [
    "from Functions.data_manipulation import DataManipulation as dm"
   ]
  },
  {
   "cell_type": "markdown",
   "metadata": {},
   "source": [
    "Lade Konfiguration"
   ]
  },
  {
   "cell_type": "code",
   "execution_count": 2,
   "metadata": {},
   "outputs": [],
   "source": [
    "config_parameters = dm()\n",
    "config_blood = dm() \n",
    "config_ecp = dm()"
   ]
  },
  {
   "cell_type": "markdown",
   "metadata": {},
   "source": [
    "Nur Import überprüfen"
   ]
  },
  {
   "cell_type": "code",
   "execution_count": 3,
   "metadata": {},
   "outputs": [
    {
     "name": "stdout",
     "output_type": "stream",
     "text": [
      "Deleted age (years) in year 2.\n",
      "Deleted age (years) in year 3.\n",
      "Default value 7.4 in pH -> 120.\n",
      "Deleted Na (mmol/l) in 0.\n",
      "Wrong type in column pre HD weight. Has to be int32 but is object.\n",
      "No ranges to check!\n"
     ]
    }
   ],
   "source": [
    "dm.verify_import(config_parameters, \"demo_parameter\")\n",
    "dm.verify_import(config_blood, \"blood\")\n",
    "dm.verify_import(config_ecp, \"ecp\")"
   ]
  },
  {
   "cell_type": "markdown",
   "metadata": {},
   "source": [
    "In Datenbank speichern"
   ]
  },
  {
   "cell_type": "code",
   "execution_count": 4,
   "metadata": {},
   "outputs": [],
   "source": [
    "dm.parse_to_database(config_parameters)\n",
    "dm.parse_to_database(config_blood)\n",
    "dm.parse_to_database(config_ecp)"
   ]
  },
  {
   "cell_type": "markdown",
   "metadata": {},
   "source": [
    "Datenbanktabelle auslesen"
   ]
  },
  {
   "cell_type": "code",
   "execution_count": 5,
   "metadata": {},
   "outputs": [
    {
     "name": "stdout",
     "output_type": "stream",
     "text": [
      "  demographic_parameters  age (years) dialysis vintage (month)  \\\n",
      "0               baseline         67.0      2016-10-22 00:00:00   \n",
      "1                 year 2          NaN      2017-05-23 00:00:00   \n",
      "2                 year 3          NaN      2017-05-23 00:00:00   \n",
      "\n",
      "   regular dialysate calcium concentration (mmol/l) dry weight (kg)  \n",
      "0                                              1.25            91.5  \n",
      "1                                              1.60             105  \n",
      "2                                              1.60             101  \n",
      "   min  iCa (mmol/l)  Hb (g/dl)  hematocrit (%)     pH  Hco3 (mmol/l)  \\\n",
      "0    0          1.02       11.7            36.0  7.340           21.5   \n",
      "1   60          1.07       12.0            37.1  7.375           24.5   \n",
      "2   90          1.04       12.3            38.0  7.393           24.6   \n",
      "3  120          1.03       12.7            39.2  7.400           25.4   \n",
      "\n",
      "   Na (mmol/l)  \n",
      "0          NaN  \n",
      "1        140.0  \n",
      "2        139.0  \n",
      "3        140.0  \n",
      "        INDEX HD duration total UF achieved  recirculation OH (liter) [BCM]  \\\n",
      "0  Unnamed: 1      240min           4200 ml              6                -   \n",
      "\n",
      "  pre HD weight post HD weight  \n",
      "0       95,2 kg        91,3 kg  \n"
     ]
    }
   ],
   "source": [
    "dm.get_tables_from_database(config_parameters, 'Demo_Params')\n",
    "dm.get_tables_from_database(config_parameters, 'Blood (POC)')\n",
    "dm.get_tables_from_database(config_parameters, 'ECP')"
   ]
  }
 ],
 "metadata": {
  "interpreter": {
   "hash": "9bf2ca0f4a7adc3ce2f237ca763c1538d3ef289a4e7face3612a01cdae9f6807"
  },
  "kernelspec": {
   "display_name": "Python 3.10.6 64-bit",
   "name": "python3"
  },
  "language_info": {
   "codemirror_mode": {
    "name": "ipython",
    "version": 3
   },
   "file_extension": ".py",
   "mimetype": "text/x-python",
   "name": "python",
   "nbconvert_exporter": "python",
   "pygments_lexer": "ipython3",
   "version": "3.10.6"
  },
  "orig_nbformat": 4
 },
 "nbformat": 4,
 "nbformat_minor": 2
}
